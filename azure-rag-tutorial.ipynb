{
 "cells": [
  {
   "cell_type": "code",
   "execution_count": 1,
   "metadata": {},
   "outputs": [],
   "source": [
    "# Set endpoints and API keys for Azure services\n",
    "AZURE_SEARCH_SERVICE: str = \"\"\n",
    "AZURE_SEARCH_KEY: str = \"\"\n",
    "AZURE_OPENAI_ACCOUNT: str = \"\"\n",
    "AZURE_OPENAI_KEY: str = \"\"\n",
    "AZURE_AI_MULTISERVICE_ACCOUNT: str = \"\"\n",
    "AZURE_AI_MULTISERVICE_KEY: str = \"\"\n",
    "AZURE_STORAGE_CONNECTION: str = \"\"\n",
    "# Example connection string for a search service managed identity connection:\n",
    "# \"ResourceId=/subscriptions/FAKE-SUBCRIPTION=ID/resourceGroups/FAKE-RESOURCE-GROUP/providers/Microsoft.Storage/storageAccounts/FAKE-ACCOUNT;\""
   ]
  },
  {
   "cell_type": "code",
   "execution_count": 2,
   "metadata": {},
   "outputs": [
    {
     "name": "stdout",
     "output_type": "stream",
     "text": [
      "py-rag-tutorial-idx created\n"
     ]
    }
   ],
   "source": [
    "from azure.identity import DefaultAzureCredential\n",
    "#from azure.identity import get_bearer_token_provider\n",
    "from azure.search.documents.indexes import SearchIndexClient\n",
    "from azure.search.documents.indexes.models import (\n",
    "    SearchField,\n",
    "    SearchFieldDataType,\n",
    "    VectorSearch,\n",
    "    HnswAlgorithmConfiguration,\n",
    "    VectorSearchProfile,\n",
    "    AzureOpenAIVectorizer,\n",
    "    AzureOpenAIVectorizerParameters,\n",
    "    SearchIndex\n",
    ")\n",
    "\n",
    "credential = DefaultAzureCredential()\n",
    "\n",
    "# Create a search index  \n",
    "index_name = \"py-rag-tutorial-idx\"\n",
    "index_client = SearchIndexClient(endpoint=AZURE_SEARCH_SERVICE, credential=credential)  \n",
    "fields = [\n",
    "    SearchField(name=\"parent_id\", type=SearchFieldDataType.String),  \n",
    "    SearchField(name=\"title\", type=SearchFieldDataType.String),\n",
    "    SearchField(name=\"locations\", type=SearchFieldDataType.Collection(SearchFieldDataType.String), filterable=True),\n",
    "    SearchField(name=\"chunk_id\", type=SearchFieldDataType.String, key=True, sortable=True, filterable=True, facetable=True, analyzer_name=\"keyword\"),  \n",
    "    SearchField(name=\"chunk\", type=SearchFieldDataType.String, sortable=False, filterable=False, facetable=False),  \n",
    "    SearchField(name=\"text_vector\", type=SearchFieldDataType.Collection(SearchFieldDataType.Single), vector_search_dimensions=1024, vector_search_profile_name=\"myHnswProfile\")\n",
    "    ] \n",
    "# Configure the vector search configuration  \n",
    "vector_search = VectorSearch(  \n",
    "    algorithms=[  \n",
    "        HnswAlgorithmConfiguration(name=\"myHnsw\"),\n",
    "    ],  \n",
    "    profiles=[  \n",
    "        VectorSearchProfile(  \n",
    "            name=\"myHnswProfile\",  \n",
    "            algorithm_configuration_name=\"myHnsw\",  \n",
    "            vectorizer_name=\"myOpenAI\",  \n",
    "        )\n",
    "    ],  \n",
    "    vectorizers=[  \n",
    "        AzureOpenAIVectorizer(  \n",
    "            vectorizer_name=\"myOpenAI\",  \n",
    "            kind=\"azureOpenAI\",  \n",
    "            parameters=AzureOpenAIVectorizerParameters(  \n",
    "                resource_url=AZURE_OPENAI_ACCOUNT,  \n",
    "                deployment_name=\"text-embedding-3-large\",\n",
    "                model_name=\"text-embedding-3-large\"\n",
    "            ),\n",
    "        ),  \n",
    "    ], \n",
    ") \n",
    "\n",
    "# Create the search index\n",
    "index = SearchIndex(name=index_name, fields=fields, vector_search=vector_search)  \n",
    "result = index_client.create_or_update_index(index)  \n",
    "print(f\"{result.name} created\")"
   ]
  },
  {
   "cell_type": "code",
   "execution_count": 3,
   "metadata": {},
   "outputs": [
    {
     "name": "stdout",
     "output_type": "stream",
     "text": [
      "Data source 'py-rag-tutorial-ds' created or updated\n"
     ]
    }
   ],
   "source": [
    "from azure.search.documents.indexes import SearchIndexerClient\n",
    "from azure.search.documents.indexes.models import (\n",
    "    SearchIndexerDataContainer,\n",
    "    SearchIndexerDataSourceConnection\n",
    ")\n",
    "\n",
    "# Create a data source \n",
    "indexer_client = SearchIndexerClient(endpoint=AZURE_SEARCH_SERVICE, credential=credential)\n",
    "container = SearchIndexerDataContainer(name=\"ragdata\")\n",
    "data_source_connection = SearchIndexerDataSourceConnection(\n",
    "    name=\"py-rag-tutorial-ds\",\n",
    "    type=\"azureblob\",\n",
    "    connection_string=AZURE_STORAGE_CONNECTION,\n",
    "    container=container\n",
    ")\n",
    "data_source = indexer_client.create_or_update_data_source_connection(data_source_connection)\n",
    "\n",
    "print(f\"Data source '{data_source.name}' created or updated\")"
   ]
  },
  {
   "cell_type": "code",
   "execution_count": 4,
   "metadata": {},
   "outputs": [
    {
     "name": "stdout",
     "output_type": "stream",
     "text": [
      "py-rag-tutorial-ss created\n"
     ]
    }
   ],
   "source": [
    "from azure.search.documents.indexes.models import (\n",
    "    SplitSkill,\n",
    "    InputFieldMappingEntry,\n",
    "    OutputFieldMappingEntry,\n",
    "    AzureOpenAIEmbeddingSkill,\n",
    "    EntityRecognitionSkill,\n",
    "    SearchIndexerIndexProjection,\n",
    "    SearchIndexerIndexProjectionSelector,\n",
    "    SearchIndexerIndexProjectionsParameters,\n",
    "    IndexProjectionMode,\n",
    "    SearchIndexerSkillset,\n",
    "    CognitiveServicesAccountKey\n",
    ")\n",
    "skillset_name = \"py-rag-tutorial-ss\"\n",
    "\n",
    "split_skill = SplitSkill(  \n",
    "    description=\"Split skill to chunk documents\",  \n",
    "    text_split_mode=\"pages\",  \n",
    "    context=\"/document\",  \n",
    "    maximum_page_length=2000,  \n",
    "    page_overlap_length=500,  \n",
    "    inputs=[  \n",
    "        InputFieldMappingEntry(name=\"text\", source=\"/document/content\"),  \n",
    "    ],  \n",
    "    outputs=[  \n",
    "        OutputFieldMappingEntry(name=\"textItems\", target_name=\"pages\")  \n",
    "    ],  \n",
    ")  \n",
    "embedding_skill = AzureOpenAIEmbeddingSkill(  \n",
    "    description=\"Skill to generate embeddings via Azure OpenAI\",  \n",
    "    context=\"/document/pages/*\",  \n",
    "    resource_url=AZURE_OPENAI_ACCOUNT,  \n",
    "    deployment_name=\"text-embedding-3-large\",  \n",
    "    model_name=\"text-embedding-3-large\",\n",
    "    dimensions=1024,\n",
    "    inputs=[  \n",
    "        InputFieldMappingEntry(name=\"text\", source=\"/document/pages/*\"),  \n",
    "    ],  \n",
    "    outputs=[  \n",
    "        OutputFieldMappingEntry(name=\"embedding\", target_name=\"text_vector\")  \n",
    "    ],  \n",
    ")\n",
    "entity_skill = EntityRecognitionSkill(\n",
    "    description=\"Skill to recognize entities in text\",\n",
    "    context=\"/document/pages/*\",\n",
    "    categories=[\"Location\"],\n",
    "    default_language_code=\"en\",\n",
    "    inputs=[\n",
    "        InputFieldMappingEntry(name=\"text\", source=\"/document/pages/*\")\n",
    "    ],\n",
    "    outputs=[\n",
    "        OutputFieldMappingEntry(name=\"locations\", target_name=\"locations\")\n",
    "    ]\n",
    ")\n",
    "index_projections = SearchIndexerIndexProjection(  \n",
    "    selectors=[  \n",
    "        SearchIndexerIndexProjectionSelector(  \n",
    "            target_index_name=index_name,  \n",
    "            parent_key_field_name=\"parent_id\",  \n",
    "            source_context=\"/document/pages/*\",  \n",
    "            mappings=[  \n",
    "                InputFieldMappingEntry(name=\"chunk\", source=\"/document/pages/*\"),  \n",
    "                InputFieldMappingEntry(name=\"text_vector\", source=\"/document/pages/*/text_vector\"),\n",
    "                InputFieldMappingEntry(name=\"locations\", source=\"/document/pages/*/locations\"),  \n",
    "                InputFieldMappingEntry(name=\"title\", source=\"/document/metadata_storage_name\"),  \n",
    "            ],  \n",
    "        ),  \n",
    "    ],  \n",
    "    parameters=SearchIndexerIndexProjectionsParameters(  \n",
    "        projection_mode=IndexProjectionMode.SKIP_INDEXING_PARENT_DOCUMENTS  \n",
    "    ),  \n",
    ") \n",
    "cognitive_services_account = CognitiveServicesAccountKey(key=AZURE_AI_MULTISERVICE_KEY)\n",
    "\n",
    "skills = [split_skill, embedding_skill, entity_skill]\n",
    "\n",
    "skillset = SearchIndexerSkillset(  \n",
    "    name=skillset_name,  \n",
    "    description=\"Skillset to chunk documents and generating embeddings\",  \n",
    "    skills=skills,  \n",
    "    index_projection=index_projections,\n",
    "    cognitive_services_account=cognitive_services_account\n",
    ")\n",
    "  \n",
    "client = SearchIndexerClient(endpoint=AZURE_SEARCH_SERVICE, credential=credential)  \n",
    "client.create_or_update_skillset(skillset)  \n",
    "print(f\"{skillset.name} created\")  "
   ]
  },
  {
   "cell_type": "code",
   "execution_count": 5,
   "metadata": {},
   "outputs": [
    {
     "name": "stdout",
     "output_type": "stream",
     "text": [
      " py-rag-tutorial-idxr is created and running. Give the indexer a few minutes before running a query.\n"
     ]
    }
   ],
   "source": [
    "from azure.search.documents.indexes.models import (\n",
    "    SearchIndexer\n",
    ")\n",
    "\n",
    "# Create an indexer  \n",
    "indexer_name = \"py-rag-tutorial-idxr\" \n",
    "\n",
    "indexer_parameters = None\n",
    "\n",
    "indexer = SearchIndexer(  \n",
    "    name=indexer_name,  \n",
    "    description=\"Indexer to index documents and generate embeddings\",  \n",
    "    skillset_name=skillset_name,  \n",
    "    target_index_name=index_name,  \n",
    "    data_source_name=data_source.name,\n",
    "    parameters=indexer_parameters\n",
    ")  \n",
    "\n",
    "# Create and run the indexer  \n",
    "indexer_client = SearchIndexerClient(endpoint=AZURE_SEARCH_SERVICE, credential=credential)  \n",
    "indexer_result = indexer_client.create_or_update_indexer(indexer)  \n",
    "\n",
    "print(f' {indexer_name} is created and running. Give the indexer a few minutes before running a query.')  "
   ]
  },
  {
   "cell_type": "code",
   "execution_count": 17,
   "metadata": {},
   "outputs": [],
   "source": [
    "import os\n",
    "from azure.core.credentials import AzureKeyCredential\n",
    "from azure.search.documents import SearchClient\n",
    "index_name = \"azureblob-index\"\n",
    "# Get the service endpoint and API key from the environment\n",
    "endpoint = \"https://ragsearch01.search.windows.net\"\n",
    "key = \"gCwqBQqv0pK9oyc6xHybqUEJU82tTzjTRo8hlXbs5ZAzSeBmuRPY\"\n",
    "\n",
    "# Create a client\n",
    "credential = AzureKeyCredential(key)\n",
    "client = SearchClient(endpoint=endpoint,\n",
    "                      index_name=index_name,\n",
    "                      credential=credential)"
   ]
  },
  {
   "cell_type": "code",
   "execution_count": 40,
   "metadata": {},
   "outputs": [
    {
     "name": "stdout",
     "output_type": "stream",
     "text": [
      "The Taj Mahal is an ivory-white marble mausoleum on the right bank of the river Yamuna in Agra, Uttar Pradesh, India. It was commissioned in 1631 by the fifth Mughal emperor, Shah Jahan (r. 1628–1658) to house the tomb of his beloved wife, Mumtaz Mahal; it also houses the tomb of Shah Jahan himself. The tomb is the centrepiece of a 17-hectare (42-acre) complex, which includes a mosque and a guest house, and is set in formal gardens bounded on three sides by a crenellated wall.Construction of the mausoleum was completed in 1648, but work continued on other phases of the project for another five years. The first ceremony held at the mausoleum was an observance by Shah Jahan, on 6 February 1643, of the 12th anniversary of the death of Mumtaz Mahal. The Taj Mahal complex is believed to have been completed in its entirety in 1653 at a cost estimated at the time to be around ₹5 million, which in 2023 would be approximately ₹35 billion (US$77.8 million).The building complex incorporates the design traditions of Indo-Islamic and Mughal architecture. It employs symmetrical constructions with the usage of various shapes and symbols. While the mausoleum is constructed of white marble inlaid with semi-precious stones, red sandstone was used for other buildings in the complex similar to the Mughal era buildings of the time. The construction project employed more than 20,000 workers and artisans under the guidance of a board of architects led by Ustad Ahmad Lahori, the emperor's court architect.The Taj Mahal was designated as a UNESCO World Heritage Site in 1983 for being \"the jewel of Islamic art in India and one of the universally admired masterpieces of the world's heritage\". It is regarded as one of the best examples of Mughal architecture and a symbol of Indian history. The Taj Mahal is a major tourist attraction and attracts more than five million visitors a year. In 2007, it was declared a winner of the New 7 Wonders of the World initiative.The Taj Mahal was commissioned by Shah Jahan in 1631, to be built in the memory of his wife Mumtaz Mahal, who died on 17 June that year while giving birth to their 14th child, Gauhara Begum.[10][11] Construction started in 1632, and the mausoleum was completed in 1648, while the surrounding buildings and garden were finished five years later.[12][13]The imperial court documenting Shah Jahan's grief after the death of Mumtaz Mahal illustrates the love story held as the inspiration for the Taj Mahal.[14] According to contemporary historians Muhammad Amin Qazvini, Abdul Hamid Lahori and Muhammad Saleh Kamboh, Shah Jahan did not show the same level of affection for others as he had shown Mumtaz while she was alive. After her death, he avoided royal affairs for a week due to his grief and gave up listening to music and lavish dressing for two years. Shah Jahan was enamoured by the beauty of the land at the south side of Agra on which a mansion belonging to Raja Jai Singh I stood. He chose the place for the construction of Mumtaz's tomb after which Jai Singh agreed to give it to emperor Shah Jahan in exchange for a large palace in the centre of Agra.[15][16]\n",
      "The Taj Mahal complex is situated on a platform on the banks of the Yamuna River.\n",
      "The Taj Mahal incorporates and expands on design traditions of Indo-Islamic and Mughal architecture.[17] Inspirations for the building came from Timurid and Mughal buildings including the Gur-e Amir in Samarkand (the tomb of Timur, progenitor of the Mughal dynasty) and Humayun's Tomb in Delhi which inspired the Charbagh gardens and hasht-behesht plan of the site.[18][19] The building complex employs symmetrical constructions with the usage of various shapes and symbols.[17] While the mausoleum is constructed of white marble inlaid with semi-precious stones, red sandstone was used for other buildings in the complex similar to the Mughal era buildings of the time.[20] The entire complex sits on platform measuring 300 metres (980 ft) in length and 8.7 metres (28.5 ft) in height on the banks of Yamuna river. The platform is built with varying patterns of dark and light colored sandstone.[21]\n",
      "The eight sided main structure with large arched doorways and minarets on a square plinth\n",
      "The mausoleum building is the central structure of the entire complex. It is a white marble structure standing on a 6-metre (20 ft) high square plinth with sides measuring 95.5 metres (313 ft) in length. The base structure is a large multi-chambered cube with chamfered corners forming an eight-sided structure that is approximately 57.3 metres (188 ft) long on each of the four long sides.[22]The building has four identical sides with iwans (arch-shaped doorways), topped by a large dome and finial. Each side of the iwan is framed with a 33-metre (108 ft) high pishtaq (vaulted archway) with two similarly shaped arched balconies stacked on either side. This motif of archways is replicated on a smaller scale on the chamfered corner areas, making the design completely symmetrical.[23] At the southern side of the platform, facing the garden, there are two flights of stairs on either side which are partly covered and provide the only access from ground level up to the mausoleum building.[21]The predominant feature of the mausoleum is the 23-metre (75 ft) high marble dome that surmounts the tomb. The onion shaped dome sits on a 12-metre (39 ft) high cylindrical drum with an inner diameter of 18.4 metres (60 ft).[24] The dome is slightly asymmetrical and is topped by a 9.6-metre (31 ft) high gilded finial.[17][25] The intermediate zone between the drum and the dome is supplanted by an ornamental moulding with a twisted rope design.[21]The main dome is surrounded by four smaller domes or chattris placed at its corners, which replicate the onion shape of the main dome. The smaller domes are supported by columns which stand on the top of the main structure and help bring light to the interior of the building. Tall spires called guldastas extend from edges of walls which serve as decorative elements. The main and the smaller domes are decorated with a design resembling a lotus flower.[21] The domes are topped by decorative finials which uses Persian and Indian design elements.[26] The main finial was originally made of gold but was replaced by a copy made of gilded bronze in the early 19th century.[21] The finial is topped by a moon, a typical Islamic motif, whose horns point heavenward.[27]Four minarets flank the tomb building, one at each corner of the plinth facing the chamfered corners. The four minarets, which are each more than 40 metres (130 ft) tall, are symmetrically arranged on the corners facing the chamfered corners of the main building. Each minaret is composed of three almost equal parts with balconies at the intersection of the portions. The towers are also surmounted by smaller chattris and incorporate the same design elements as the main dome with a finial.[21] Steps lead to the top of the tower with rectangular openings below the domes providing light and air on the top. The minarets were designed similar to traditional elements of a mosque, which are used by the muezzin to call for prayer. The minarets were constructed slightly oriented towards the outside of the plinth so that in the event of collapse, the material from the towers would tend to fall away from the tomb.[21]Southern facade showing the great pishtaq, jali windows and calligraphy\n",
      "The external surfaces of the building are decorated with a number of delicate relief art adorned with various precious and semi-previous stones.[22] The decorative elements were created by applying paint, stucco, stone inlays or carvings. In line with the Islamic prohibition against the use of anthropomorphic forms, the decorative elements can be grouped into either calligraphy, abstract forms or vegetative motifs. The white marble dados consist of ornamental bas relief depictions of nature and plant based elements. The marble has been polished to emphasise the exquisite detailing of the carvings and the frames and archway spandrels are decorated with pietra dura inlays of stylised geometric pattern of vines, flowers and fruits.[28]\n",
      "The domes and vaults of the sandstone buildings are worked with tracery of incised painting to create elaborate geometric forms. Herringbone inlays define the space between the adjoining elements. White inlays are used in sandstone buildings, and dark or black inlays on the white marbles.[13] Contrasting colors have been used to create a complex array of different geometric patterns across the mortared areas of the buildings. The floors and walkways are laid with tiles or blocks with contrasting colors and consisting of various tessellation patterns. The plinth is differentiated from the paved surface of the main platform by an interlocking pattern of octagonal white marble pieces set into four pointed stars made of red sandstone, surrounded by a border. The building has many lattice windows or jalis with interlocking hexagonal patterns.[21]The gateway arches are bordered by Arabic calligraphy with passages from the Qur'an. Much of the calligraphy is composed of florid thuluth script made of jasper or black marble inlaid in white marble panels. Higher panels are written with slightly larger script to reduce the skewing effect when viewed from below.[28] The calligraphy on the southern gate roughly translates to \"O Soul, thou art at rest. Return to the Lord at peace with Him, and He at peace with you.\"[29] The calligraphy on the buildings were believed to have been created in 1609 by Abdul Haq, who was conferred the title of \"Amanat Khan\" by Shah Jahan.[30][28] At the base of the interior dome is the inscription, \"Written by the insignificant being, Amanat Khan Shirazi\".[31]\n",
      "The main inner chamber is an octagon with 7.3-metre (24 ft) sides, with the design allowing for entry from each face with the main door facing the garden to the south. Two tiers of eight pishtaq arches are located along the walls, similar to the exterior.[32] The four central upper arches form balconies or viewing areas, and each balcony's exterior window has an intricate jali. The inner wall is open along the axes where jali screens are fitted which transmit light from the exterior to the interior of the main chamber.[33] Except the south side, other three sides consist of an open elongated room flanked by two square cells covered with decorated ceilings set on the platform. The central room has arched openings on three sides fitted with jalis filled with panes of glass and a small rectangular window cut into the central jali.[33] The square cells which are reached through separate doors were probably originally used for visitors and Qur'an reciters as a place to rest. Staircases lead from the ground floor to the roof level, where there are corridors between the central hall and the two corner rooms in the south with a system of ventilation shafts.[21]The interior walls are about 25 metres (82 ft) high and are topped by a \"false\" interior dome decorated with a sun motif. The inlay work is a lapidary of precious and semiprecious gemstones.[34] Each chamber wall is highly decorated with dado bas-relief, intricate lapidary inlay and refined calligraphy panels similar to the design elements seen throughout the exterior of the complex.[35] The main chamber houses the false sarcophagi of Mumtaz Mahal and Shah Jahan, while the real ones are in the basement.[23] Perforated marble jalis (mahjar-i mushabbak) border the cenotaphs and are made from eight marble panels carved through with intricate pierce work inlaid in delicate detail with semi-precious stones. The cenotaphs were originally covered by a screen made of gold on the occasion of the second anniversary of Mumtaz Mahal's death in 1633, which was later replaced by the marble screen in 1643.[33]The false sarcophagi of Mumtaz Mahal (right) and Shah Jahan (left) in the main chamberThe actual sarcophagi of Mumtaz Mahal (right) and Shah Jahan (left) in the lower level.Situated within the screen in the upper main chamber are the likenesses of the tombs of Mumtaz Mahal and Shah Jahan with the actual burials done below in the lower tomb chamber. From the southern main entrance room, a stairway leads to the lower tomb chamber which is rectangular in shape with walls laid with marble and an undecorated coved ceiling.[33] The cenotaph of Mumtaz is located in the exact center of the chamber on a marble base of 1.5 by 2.5 metres (4 ft 11 in by 8 ft 2 in). Shah Jahan's cenotaph is situated on a larger base on the western side in an asymmetrical arrangement. On the top is a traditional sculpture of a small pen box denoting it as a male tomb.[32] The cenotaphs are aligned north–south, with the head towards the north and the bodies were laid in on their sides with the face turned towards the west, facing Mecca.[33]The calligraphy found on the marble cenotaphs in the tomb is particularly detailed and delicate. While the cenotaphs are similar to the ones from the Mughal era, no other tombs from the era were adorned with such an exquisite decoration.[36] On Mumtaz's sarcophagus on the top, the decoration consists of natural plum fruits, buds and flower blossoms inlaid with Qur'anic inscriptions with the epitaph reading \"The illumined grave of Arjumand Bano Begam, entided Mumtaz Mahal, who died in the year 1631\". The original tomb in the lower level is largely undecorated, with Ninety Nine Names of God inscribed on the side.[33] The false cenotaph of Shah Jahan has similar decorations and is covered with flowers and other scroll work without any inscriptions. The epitaph surrounded by red poppy flowers reads \"This is the sacred grave of His Most Exalted Majesty, Dweller in Paradise (Firdaus Ashiyani), Second Lord of the Auspicious. Conjunction (Sahib-i Qiran-i Sani), Shah Jahan, Padshah; may it ever be fragrant! The year 1076 [AD 1666]\".[33] The original cenotaph of Shah Jahan is a more simply decorated version with similar red flowers and yellow plants with a more comprehensive epitaph reading \"This is the illumined grave and sacred resting place of the emperor, dignified as Rizwan, residing in Eternity, His Majesty, having his abode in [the celestial realm of] Illiyun, Dweller in Paradise (Firdaus Ashiyani) [posthumous title of Shah Jahan], the Second Sahib-i Qiran, Shah Jahan, Padshah Ghazi [Warrior for the Faith]; may it be sanctified and may Paradise become his abode. He travelled from this world to the banquet hall of eternity on the night of the twenty-sixth of the month of Rajab, in the year one thousand and seventy-six Hijri [31 January AD 1666]\".[33] The complex is set around a large 300 m2 (3,200 sq ft) charbagh or Mughal garden. The garden is divided by two main walkways (khiyaban) into four quadrants with further raised pathways that divide each of the four-quarters into 16 sunken parterres or flowerbeds. The garden is surrounded by a walkway connecting all the quadrants. Halfway between the tomb and gateway in the centre of the garden is a raised marble water tank with five fountains and a reflecting pool positioned on a north–south axis to reflect the image of the mausoleum. The elevated marble water tank is called al Hawd al-Kawthar in reference to the \"Tank of Abundance\" promised to Muhammad.[37] Elsewhere, the garden is laid out with avenues of trees and fountains.[38] In the north-western quadrant, is a place that marks the site where Mumtaz Mahal was first buried, before her body was moved to its final resting place inside the main chamber of the mausoleum.[39]The charbagh garden, a design inspired by Persian gardens, was introduced to India by Babur, the first Mughal emperor and symbolises the Paradise garden (Jannah) with four rivers flowing from a central spring or mountain, separating the garden into north, west, south and east.[40] While most gardens of the era are rectangular with a tomb or pavilion in the centre, the Taj gardens is unusual in that the main element, the tomb, is located at the end of the garden. With the discovery of Mahtab Bagh (\"Moonlight Garden\") on the other side of the Yamuna river, the Archaeological Survey of India has hypothesised that the Yamuna river itself was incorporated into the garden's design and was meant to be seen as one of the rivers of Paradise.[41] Similarities in layout and architectural features with the Shalimar Gardens suggest that both gardens may have been designed by the same architect, Ali Mardan.[42] Early accounts of the garden describe its profusion of vegetation, including abundant roses, daffodils, and fruit trees.[43] As the Mughal Empire declined, the gardens were not maintained, and when the British Raj assumed management of the gardens, they changed the landscaping to resemble the formal lawns of London in the 19th century.[44][45]The water supply for the gardens were derived from the Yamuna River, where a water channel transported the water into an underground reservoir along the eastern wall of a storage building containing multiple storage tanks. The water from the reservoir was lifted by means of a system of pulleys and wheels, turned by animals, to a tank that supplied an aqueduct which ran south carrying water up to the western wall before turning east. The water was later distributed throughout the garden through earthenware pipes embedded underground. The fountains in the central tank consisted of large vessels made of copper and inter-connected through copper pipes and the drop from the 9.47 m (31.1 ft) high walls created the necessary water for the fountains.[39]The Taj Mahal complex is enclosed by crenellated red sandstone walls on three sides, with the side facing the Yamuna river left open. Outside the complex walls, there are other mausoleums dedicated to Shah Jahan's other wives, royals and favorite servants. The inner sides of the walls feature columned arcades typical of Hindu temples, adorned with domed cuppola like chattris and smaller structures like the Music House interspersed between them. The main gateway, primarily built of marble, mirrors the tomb's architecture and incorporates intricate decorations like bas-relief and pietra dura inlays. At the far end of the complex stand two similar buildings built of red sandstone, one of which is designated as a mosque and the other as a jawab, a structure to provide architectural symmetry. The mosque's design resembles others built during the era and the jawab has floors with inlaid patterns while lacking a mihrab.[13]The land on which the Taj Mahal is situated was present to the south of the walled city of Agra which was given to Shah Jahan by Raja Jai Singh I in exchange for a large palace in the centre of Agra.[15] The building was commissioned in 1631, and construction commenced in 1632.[23][13] An area of roughly 1.2 hectares (3 acres) was excavated, filled with dirt to reduce seepage, and levelled at 50 metres (160 ft) above the riverbank level. In the tomb area, piles were dug and filled with lime and stone to form the footings of the tomb. The platform above the ground was constructed of brick and mortar.[22]The tomb complex was built mainly using brick and lime mortar. The external surface of the main tomb building and the interior of the main cenotaph chamber is veneered with white marble. The other interior surfaces and other accessory buildings are lined with red sandstone coated with a red octet for protection, excluding the exterior surfaces of domes.[22] The white marble came from Makrana in Rajasthan, while the red sandstone was quarried from Fatehpur Sikri in Uttar Pradesh. Many precious and semi-precious stones, used for decoration, were imported from across the world, including jade and crystal from China, turquoise from Tibet, Lapis lazuli from Afghanistan, sapphire from Sri Lanka and carnelian from Arabia. In all, 28 types of precious and semi-precious stone were inlaid into the white marble.[46][22] It is believed that more than 20,000 artisans, labourers, painters and others were involved in the construction of the building. Specialist sculptors from Bukhara, calligraphers from Syria and Persia, designers from southern India, stone cutters from Baluchistan and Italian artisans were employed.[13] Workmen constructed a colossal brick scaffold that mirrored the tomb rather than wooden scaffolds.[47] A 15 km (9.3 mi) long earthern ramp was built to transport marble and materials to the construction site, hauled on specially constructed wagons by teams of oxen and elephants.[48] An elaborate post-and-beam pulley system was used to raise the blocks into the desired position. Water was drawn from the river by a series of an animal-powered devices.[49] When the structure was partially completed, the first ceremony was held at the mausoleum by Shah Jahan on 6 February 1643, of the 12th anniversary of the death of Mumtaz Mahal.[a][50] Construction of the mausoleum was completed in 1648, but work continued on other phases of the project for another five years.[12] The Taj Mahal complex is believed to have been completed in its entirety in 1653 at a cost estimated at the time to be around ₹5 million, which in 2023 would be approximately ₹35 billion (US$77.8 million).[22][51]Later yearsPhotograph of the Taj Mahal by Samuel Bourne, 1860s\n",
      "In December 1652, Shah Jahan's son Aurangzeb wrote a letter to his father about the tomb, the mosque and the assembly hall of the complex developing extensive leaks during the previous rainy season.[52] In 1658, Shah Jahan was deposed by Aurangzeb and put under house arrest at the nearby Agra Fort from where he could see the Taj Mahal. Upon Shah Jahan's death in 1666, Aurangzeb buried him in the mausoleum next to his wife.[53] In the 18th century, the Jat rulers of Bharatpur attacked the Taj Mahal while invading Agra and took away two chandeliers, one of agate and another of silver, which had hung over the main cenotaph and the gold and silver screen. Kanbo, a Mughal historian, said the gold shield which covered the 4.6-metre-high (15 ft) finial at the top of the main dome was also removed during the Jat despoliation.[54]By the late 19th century, parts of the buildings had fallen into disrepair. At the end of the century, British viceroy Lord Curzon ordered a restoration project, which was completed in 1908.[55] He also commissioned the large lamp in the interior chamber and replaced the gardens with European-style lawns that are still in place today.[56] Protective wartime scaffolding in 1942\n",
      "In 1942, the government erected scaffolding to disguise the building in anticipation of air attacks by the Japanese Air Force.[57][58] Since Indian independence in 1947, the Archaeological Survey of India has been responsible for the maintenance of the monument.[59] During the India-Pakistan wars of 1965 and 1971, scaffolding was again erected to mislead bomber pilots.[60] In 1983, the Taj Mahal was designated as a UNESCO World Heritage Site for being \"the jewel of Islamic art in India and one of the universally admired masterpieces of the world's heritage\".[1]Since the late 20th century, the monument has been affected by environmental pollution which has turned the Taj Mahal yellow-brown.[61][62] Acid rain and pollution affecting the Yamuna River including the presence of Mathura Oil Refinery, have contributed to the same.[63][64] After directives by the Supreme Court of India, in 1997 the Indian government set up the \"Taj Trapezium Zone (TTZ)\", a 10,400-square-kilometre (4,000 sq mi) area around the monument where strict emissions standards are in place.[65][66] Concerns for the tomb's structural integrity have recently been raised because of a decline in the groundwater level in the Yamuna river basin, with cracks appearing in parts of the tomb in 2010 and the minarets surrounding the monument showing signs of tilting.[67] Minor damage was reported due to storms on 11 April 2018 and 31 May 2020.[68][69] In the 2020s, the Government of India has undertaken various restoration measures, including placing mud packs to restore the white color and replacing broken marble.[70][71][72]\n",
      "\n",
      "\n",
      "\n"
     ]
    }
   ],
   "source": [
    "results = client.search(search_text=\"Mumtaz Mahal\")\n",
    "\n",
    "for result in results:\n",
    "    \n",
    "    #print(\"{}: {}\".format(result[\"content\"], result[\"metadata_storage_name\"]))\n",
    "    print(result.get(\"content\"))\n"
   ]
  },
  {
   "cell_type": "code",
   "execution_count": 43,
   "metadata": {},
   "outputs": [],
   "source": [
    "from azure.search.documents import SearchClient\n",
    "from openai import AzureOpenAI\n",
    "\n",
    "# Set up the Azure OpenAI client\n",
    "#token_provider = get_bearer_token_provider(credential, \"https://cognitiveservices.azure.com/.default\")\n",
    "openai_client = AzureOpenAI(\n",
    "     api_version=\"2024-06-01\",\n",
    "     azure_endpoint=AZURE_OPENAI_ACCOUNT,\n",
    "     #azure_ad_token_provider=token_provider\n",
    "     api_key=\"D1e4pvqHwX9QlfwREyBO2FAXGQ7W2unq7zkU0NBl551JqmPEnQjwJQQJ99BBACHYHv6XJ3w3AAABACOGhnjg\"\n",
    " )\n",
    "\n",
    "deployment_name = \"gpt-4o\"\n",
    "\n",
    "# Set up the Azure Azure AI Search client\n",
    "search_client = SearchClient(\n",
    "     endpoint=AZURE_SEARCH_SERVICE,\n",
    "     index_name=index_name,\n",
    "     credential=credential\n",
    " )\n",
    "\n",
    "# Provide instructions to the model\n",
    "GROUNDED_PROMPT=\"\"\"\n",
    "You are an AI assistant that helps users learn from the information found in the source material.\n",
    "Answer the query using only the sources provided below.\n",
    "Use bullets if the answer has multiple points.\n",
    "If the answer is longer than 3 sentences, provide a summary.\n",
    "Answer ONLY with the facts listed in the list of sources below. Cite your source when you answer the question\n",
    "If there isn't enough information below, say you don't know.\n",
    "Do not generate answers that don't use the sources below.\n",
    "Query: {query}\n",
    "Sources:\\n{sources}\n",
    "\"\"\""
   ]
  },
  {
   "cell_type": "code",
   "execution_count": 46,
   "metadata": {},
   "outputs": [
    {
     "name": "stdout",
     "output_type": "stream",
     "text": [
      "Mumtaz Mahal was the wife of the fifth Mughal emperor, Shah Jahan. She passed away on June 17, 1631, while giving birth to their 14th child. Shah Jahan was deeply grieved by her death, and as a tribute to her memory, he commissioned the construction of the Taj Mahal, an ivory-white marble mausoleum in Agra, India, to house her tomb. The love story between Shah Jahan and Mumtaz Mahal is regarded as the inspiration for the monument. (Source: The Taj Mahal)\n"
     ]
    }
   ],
   "source": [
    "response = openai_client.chat.completions.create(\n",
    "    messages=[\n",
    "        {\n",
    "            \"role\": \"user\",\n",
    "            \"content\": GROUNDED_PROMPT.format(query=\"taj description\", sources=result.get(\"content\"))\n",
    "        }\n",
    "    ],\n",
    "    model=\"gpt-4o\"\n",
    ")\n",
    "\n",
    "print(response.choices[0].message.content)\n"
   ]
  }
 ],
 "metadata": {
  "kernelspec": {
   "display_name": "env",
   "language": "python",
   "name": "python3"
  },
  "language_info": {
   "codemirror_mode": {
    "name": "ipython",
    "version": 3
   },
   "file_extension": ".py",
   "mimetype": "text/x-python",
   "name": "python",
   "nbconvert_exporter": "python",
   "pygments_lexer": "ipython3",
   "version": "3.13.1"
  }
 },
 "nbformat": 4,
 "nbformat_minor": 2
}
